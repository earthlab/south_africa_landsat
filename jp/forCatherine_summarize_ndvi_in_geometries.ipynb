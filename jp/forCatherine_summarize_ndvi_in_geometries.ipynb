{
 "cells": [
  {
   "cell_type": "code",
   "execution_count": 1,
   "metadata": {},
   "outputs": [],
   "source": [
    "# imports\n",
    "import os,sys\n",
    "import matplotlib.pyplot as plt\n",
    "import geopandas as gpd\n",
    "import numpy as np\n",
    "import pandas as pd\n",
    "import time\n",
    "\n",
    "# import some helper functions\n",
    "from proc_helpers import create_buffer_point_polygon_overlay_v2, create_buffer_point_polygon_overlay_v3,\\\n",
    "                         pp_summarize_ndvi_with_qa_dir, \\\n",
    "                         create_buffer_point_polygon_overlay"
   ]
  },
  {
   "cell_type": "code",
   "execution_count": 2,
   "metadata": {},
   "outputs": [
    {
     "name": "stdout",
     "output_type": "stream",
     "text": [
      "{'init': 'epsg:32736'}\n"
     ]
    }
   ],
   "source": [
    "shpfile = '../testing_villages_new/Agin_Villages.shp'\n",
    "extra_erase_shp = '../testing_villages_new/VillplusGR.shp'\n",
    "df = gpd.read_file(shpfile)\n",
    "print(df.crs)"
   ]
  },
  {
   "cell_type": "code",
   "execution_count": 3,
   "metadata": {},
   "outputs": [
    {
     "data": {
      "text/plain": [
       "False"
      ]
     },
     "execution_count": 3,
     "metadata": {},
     "output_type": "execute_result"
    }
   ],
   "source": [
    "df.crs == {'init':'epsg:32734'}"
   ]
  },
  {
   "cell_type": "code",
   "execution_count": 6,
   "metadata": {},
   "outputs": [
    {
     "data": {
      "text/plain": [
       "<matplotlib.axes._subplots.AxesSubplot at 0x1d27fd09898>"
      ]
     },
     "execution_count": 6,
     "metadata": {},
     "output_type": "execute_result"
    },
    {
     "data": {
      "image/png": "[encoded data removed]",
      "text/plain": [
       "<Figure size 432x288 with 1 Axes>"
      ]
     },
     "metadata": {
      "needs_background": "light"
     },
     "output_type": "display_data"
    }
   ],
   "source": [
    "# buff_erase_df = create_buffer_point_polygon_overlay(df, method='difference', num_points=2)\n",
    "\n",
    "# use this one for the points specified in the shapefile (_v2)\n",
    "# buff_erase_df = create_buffer_point_polygon_overlay_v2(df, method='difference') \n",
    "buff_erase_df = create_buffer_point_polygon_overlay_v3(df, method='difference', num_points_fld='NUMHH', erase_shp_files=[extra_erase_shp]) \n",
    "#buff_erase_df.crs = {'init' :'epsg:32736'}\n",
    "buff_erase_df.plot()"
   ]
  },
  {
   "cell_type": "code",
   "execution_count": 7,
   "metadata": {},
   "outputs": [
    {
     "data": {
      "text/plain": [
       "((26016, 2), {'init': 'epsg:32736'})"
      ]
     },
     "execution_count": 7,
     "metadata": {},
     "output_type": "execute_result"
    }
   ],
   "source": [
    "# this will show you how many geometries now exist for processing\n",
    "buff_erase_df.shape, buff_erase_df.crs"
   ]
  },
  {
   "cell_type": "markdown",
   "metadata": {},
   "source": [
    "## get the NDVI and pixel_qa raster paths and check that they match up\n",
    "### specify the qa_dir and ndvi_dir with trailing '/' character or the functions will not run"
   ]
  },
  {
   "cell_type": "code",
   "execution_count": null,
   "metadata": {},
   "outputs": [],
   "source": [
    "qa_dir = '../landsat/test/qa/'\n",
    "ndvi_dir = '../landsat/test/ndvi/'\n"
   ]
  },
  {
   "cell_type": "code",
   "execution_count": null,
   "metadata": {},
   "outputs": [],
   "source": [
    "t0 = time.time()\n",
    "test_function_pp = pp_summarize_ndvi_with_qa_dir(ndvi_dir, qa_dir, buff_erase_df, 'median')\n",
    "t1 = time.time()\n",
    "\n",
    "## the number of cores and geometries will change...\n",
    "#print('parallel across 6 cores and 28 geometries is: {}'.format(t1-t0))\n",
    "\n",
    "\n",
    "## don't run this, it operates in serial and is slow\n",
    "# t0 = time.time()\n",
    "# test_function = summarize_ndvi_with_qa_dir(ndvi_dir, qa_dir, buff_erase_df, 'median')\n",
    "# t1 = time.time()\n",
    "# print('serial and 28 geometries is: {}'.format(t1-t0))"
   ]
  },
  {
   "cell_type": "code",
   "execution_count": null,
   "metadata": {},
   "outputs": [],
   "source": [
    "# change the output filename to your desire\n",
    "test_function_pp.to_crs(epsg=32736).to_file('test_landsat_summaries_1997_2017_median_maskCloudWater.shp')"
   ]
  },
  {
   "cell_type": "code",
   "execution_count": null,
   "metadata": {},
   "outputs": [],
   "source": []
  },
  {
   "cell_type": "markdown",
   "metadata": {},
   "source": [
    "# everything below here is testing and doesn't need to run\n",
    "## test number of points for scaling"
   ]
  },
  {
   "cell_type": "raw",
   "metadata": {},
   "source": [
    "import time\n",
    "\n",
    "times = []\n",
    "total_points = []\n",
    "num_points = (1,2,3,4,5,6,7)\n",
    "for npoints in num_points:\n",
    "    \n",
    "    buff_erase_df = create_buffer_point_polygon_overlay(df, method='difference', num_points=npoints)\n",
    "    buff_erase_df.crs = {'init' :'epsg:32736'}\n",
    "    \n",
    "    t0 = time.time()\n",
    "    test_function_pp = pp_summarize_ndvi_with_qa_dir(ndvi_dir, qa_dir, buff_erase_df, 'median')\n",
    "    t1 = time.time()\n",
    "    \n",
    "    times.append(t1-t0)\n",
    "    total_points.append(buff_erase_df.shape[0])\n",
    "    "
   ]
  },
  {
   "cell_type": "raw",
   "metadata": {},
   "source": [
    "plt.plot(total_points, times)\n",
    "plt.xlabel(\"num_points\")\n",
    "plt.ylabel(\"processing time across 6 cores (s)\")\n",
    "\n",
    "locs, labels = plt.xticks()           # Get locations and labels\n",
    "plt.xticks(total_points, total_points)  # Set locations and labels\n",
    "\n",
    "plt.grid(True)\n",
    "plt.show()"
   ]
  },
  {
   "cell_type": "raw",
   "metadata": {},
   "source": [
    "from scipy.stats import linregress\n",
    "slope, intercept, r_value, p_value, std_err = linregress(total_points, times)\n",
    "slope, intercept, r_value, p_value, std_err"
   ]
  },
  {
   "cell_type": "raw",
   "metadata": {},
   "source": [
    "bigtime = slope*33000 + intercept\n",
    "bigtime/60/60"
   ]
  },
  {
   "cell_type": "code",
   "execution_count": null,
   "metadata": {},
   "outputs": [],
   "source": []
  }
 ],
 "metadata": {
  "kernelspec": {
   "display_name": "Python [default]",
   "language": "python",
   "name": "python3"
  },
  "language_info": {
   "codemirror_mode": {
    "name": "ipython",
    "version": 3
   },
   "file_extension": ".py",
   "mimetype": "text/x-python",
   "name": "python",
   "nbconvert_exporter": "python",
   "pygments_lexer": "ipython3",
   "version": "3.6.6"
  }
 },
 "nbformat": 4,
 "nbformat_minor": 2
}
