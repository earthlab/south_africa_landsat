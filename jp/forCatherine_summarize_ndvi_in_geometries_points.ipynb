{
 "cells": [
  {
   "cell_type": "code",
   "execution_count": 1,
   "metadata": {},
   "outputs": [],
   "source": [
    "# imports\n",
    "import os,sys\n",
    "import matplotlib.pyplot as plt\n",
    "import geopandas as gpd\n",
    "import numpy as np\n",
    "import pandas as pd\n",
    "import time\n",
    "\n",
    "# import some helper functions\n",
    "from proc_helpers import buffer_point_polygon_overlay,pp_summarize_ndvi_with_qa_dir"
   ]
  },
  {
   "cell_type": "code",
   "execution_count": 2,
   "metadata": {},
   "outputs": [
    {
     "name": "stdout",
     "output_type": "stream",
     "text": [
      "point shapefile crs: {'init': 'epsg:32636'}\n",
      "erase file 1 shapefile crs: {'init': 'epsg:32736'}\n",
      "erase file 2 shapefile crs: {'init': 'epsg:32736'}\n"
     ]
    }
   ],
   "source": [
    "points_shp = '../../gis/moved_locations.shp'\n",
    "extra_erase_shp = ['../../gis/VillplusGR.shp', '../../gis/Agin_Villages.shp']\n",
    "\n",
    "points_shp = '../locs_for_JM//moved_locations.shp'\n",
    "extra_erase_shp = ['../testing_villages_new/VillplusGR.shp', '../testing_villages_new/Agin_Villages.shp']\n",
    "\n",
    "df = gpd.read_file(points_shp)\n",
    "print('point shapefile crs: {}'.format(df.crs))\n",
    "print('erase file 1 shapefile crs: {}'.format(gpd.read_file(extra_erase_shp[0]).crs))\n",
    "print('erase file 2 shapefile crs: {}'.format(gpd.read_file(extra_erase_shp[1]).crs))\n",
    "\n",
    "# ensure the points are in the same CRS as polygons... for some reason they are different\n",
    "df = df.to_crs(epsg='32736')"
   ]
  },
  {
   "cell_type": "code",
   "execution_count": 3,
   "metadata": {},
   "outputs": [
    {
     "data": {
      "text/html": [
       "<div>\n",
       "<style scoped>\n",
       "    .dataframe tbody tr th:only-of-type {\n",
       "        vertical-align: middle;\n",
       "    }\n",
       "\n",
       "    .dataframe tbody tr th {\n",
       "        vertical-align: top;\n",
       "    }\n",
       "\n",
       "    .dataframe thead th {\n",
       "        text-align: right;\n",
       "    }\n",
       "</style>\n",
       "<table border=\"1\" class=\"dataframe\">\n",
       "  <thead>\n",
       "    <tr style=\"text-align: right;\">\n",
       "      <th></th>\n",
       "      <th>VillageNam</th>\n",
       "      <th>LocationID</th>\n",
       "      <th>NewName</th>\n",
       "      <th>NewID</th>\n",
       "      <th>geometry</th>\n",
       "    </tr>\n",
       "  </thead>\n",
       "  <tbody>\n",
       "    <tr>\n",
       "      <th>0</th>\n",
       "      <td>Agincourt</td>\n",
       "      <td>BBBCE</td>\n",
       "      <td>Agincourt</td>\n",
       "      <td>01</td>\n",
       "      <td>POINT (323325.9884000003 7254571.9086)</td>\n",
       "    </tr>\n",
       "    <tr>\n",
       "      <th>1</th>\n",
       "      <td>Agincourt</td>\n",
       "      <td>BBBCN</td>\n",
       "      <td>Agincourt</td>\n",
       "      <td>01</td>\n",
       "      <td>POINT (323793.302 7254205.93)</td>\n",
       "    </tr>\n",
       "    <tr>\n",
       "      <th>2</th>\n",
       "      <td>Agincourt</td>\n",
       "      <td>BBBEH</td>\n",
       "      <td>Agincourt</td>\n",
       "      <td>01</td>\n",
       "      <td>POINT (323905.9172000003 7253881.413899999)</td>\n",
       "    </tr>\n",
       "    <tr>\n",
       "      <th>3</th>\n",
       "      <td>Agincourt</td>\n",
       "      <td>BBBEN</td>\n",
       "      <td>Agincourt</td>\n",
       "      <td>01</td>\n",
       "      <td>POINT (323416.6338000002 7253991.3725)</td>\n",
       "    </tr>\n",
       "    <tr>\n",
       "      <th>4</th>\n",
       "      <td>Agincourt</td>\n",
       "      <td>BBBJY</td>\n",
       "      <td>Agincourt</td>\n",
       "      <td>01</td>\n",
       "      <td>POINT (324492.3450999995 7252748.390000001)</td>\n",
       "    </tr>\n",
       "  </tbody>\n",
       "</table>\n",
       "</div>"
      ],
      "text/plain": [
       "  VillageNam LocationID    NewName NewID  \\\n",
       "0  Agincourt      BBBCE  Agincourt    01   \n",
       "1  Agincourt      BBBCN  Agincourt    01   \n",
       "2  Agincourt      BBBEH  Agincourt    01   \n",
       "3  Agincourt      BBBEN  Agincourt    01   \n",
       "4  Agincourt      BBBJY  Agincourt    01   \n",
       "\n",
       "                                      geometry  \n",
       "0       POINT (323325.9884000003 7254571.9086)  \n",
       "1                POINT (323793.302 7254205.93)  \n",
       "2  POINT (323905.9172000003 7253881.413899999)  \n",
       "3       POINT (323416.6338000002 7253991.3725)  \n",
       "4  POINT (324492.3450999995 7252748.390000001)  "
      ]
     },
     "execution_count": 3,
     "metadata": {},
     "output_type": "execute_result"
    }
   ],
   "source": [
    "df.crs == {'init':'epsg:32734'}\n",
    "df.head()"
   ]
  },
  {
   "cell_type": "code",
   "execution_count": 4,
   "metadata": {},
   "outputs": [
    {
     "name": "stdout",
     "output_type": "stream",
     "text": [
      "{'init': 'epsg:32736'} {'init': 'epsg:32736', 'no_defs': True}\n",
      "{'init': 'epsg:32736'} {'init': 'epsg:32736', 'no_defs': True}\n"
     ]
    }
   ],
   "source": [
    "# buff_erase_df = create_buffer_point_polygon_overlay(df, method='difference', num_points=2)\n",
    "\n",
    "# use this one for the points specified in the shapefile (_v2)\n",
    "# buff_erase_df = create_buffer_point_polygon_overlay_v2(df, method='difference') \n",
    "# buff_erase_df.crs = {'init' :'epsg:32736'}\n",
    "\n",
    "# use this one to erase a list of shapefiles from the buffered points. Those shapefiles must have same CRS\n",
    "#buff_erase_df = create_buffer_point_polygon_overlay_v3(df, method='difference', num_points_fld='NUMHH', erase_shp_files=[extra_erase_shp]) \n",
    "\n",
    "# use this one if providing a data frame of points and to erase a list of shapefiles from buffered points.\n",
    "# test_df = df[df['NewID'].astype('int') < 3]\n",
    "# test_df = df.iloc[100:200]\n",
    "buff_erase_df = buffer_point_polygon_overlay(df, erase_shp_files=extra_erase_shp)\n",
    "\n",
    "#buff_erase_df.plot()"
   ]
  },
  {
   "cell_type": "markdown",
   "metadata": {},
   "source": [
    "## get the NDVI and pixel_qa raster paths and check that they match up\n",
    "### specify the qa_dir and ndvi_dir with trailing '/' character or the functions will not run"
   ]
  },
  {
   "cell_type": "code",
   "execution_count": 5,
   "metadata": {},
   "outputs": [],
   "source": [
    "qa_dir = '../landsat/test/qa/'\n",
    "ndvi_dir = '../landsat/test/ndvi/'\n"
   ]
  },
  {
   "cell_type": "code",
   "execution_count": 6,
   "metadata": {},
   "outputs": [
    {
     "name": "stdout",
     "output_type": "stream",
     "text": [
      "epsg_df: 32736, epsg_raster: 32636\n",
      "epsg_df: {'init': 'epsg:32636', 'no_defs': True}, epsg_raster: 32636\n"
     ]
    },
    {
     "name": "stderr",
     "output_type": "stream",
     "text": [
      "C:\\projects\\RD\\south_africa\\jp\\proc_helpers.py:583: UserWarning: Warning: converting a masked element to nan.\n",
      "  ndvi_df = geo_df.join(pd.DataFrame(np.array(all_vals).T, columns=landsat_columns))\n"
     ]
    }
   ],
   "source": [
    "t0 = time.time()\n",
    "test_function_pp = pp_summarize_ndvi_with_qa_dir(ndvi_dir, qa_dir, buff_erase_df, 'median')\n",
    "t1 = time.time()\n",
    "\n",
    "## the number of cores and geometries will change...\n",
    "#print('parallel across 6 cores and 28 geometries is: {}'.format(t1-t0))\n",
    "\n",
    "\n",
    "## don't run this, it operates in serial and is slow\n",
    "# t0 = time.time()\n",
    "# test_function = summarize_ndvi_with_qa_dir(ndvi_dir, qa_dir, buff_erase_df, 'median')\n",
    "# t1 = time.time()\n",
    "# print('serial and 28 geometries is: {}'.format(t1-t0))"
   ]
  },
  {
   "cell_type": "code",
   "execution_count": 9,
   "metadata": {},
   "outputs": [
    {
     "data": {
      "text/plain": [
       "0        (POLYGON ((325325.9884000005 7254571.9086, 325...\n",
       "1        (POLYGON ((325793.3019999997 7254205.93, 32578...\n",
       "2        (POLYGON ((325905.9172000005 7253881.413900002...\n",
       "3        (POLYGON ((325416.6338 7253991.3725, 325412.38...\n",
       "4        (POLYGON ((326467.9020947113 7252452.498234466...\n",
       "5        (POLYGON ((325815.1298000001 7252494.410399999...\n",
       "6        (POLYGON ((325686.6436999999 7251898.2533, 325...\n",
       "7        (POLYGON ((325458.6084999998 7252114.8038, 325...\n",
       "8        (POLYGON ((325777.8543999993 7251670.320600001...\n",
       "9        POLYGON ((324983.2472999999 7251062.143300001,...\n",
       "10       (POLYGON ((325382.943 7253092.604500001, 32537...\n",
       "11       (POLYGON ((325822.1676000003 7252815.132200001...\n",
       "12       (POLYGON ((325426.6230560013 7253579.194278575...\n",
       "13       (POLYGON ((324909.2825728823 7253634.541708498...\n",
       "14       (POLYGON ((325027.8514 7253435.2365, 325018.22...\n",
       "15       (POLYGON ((324879.8822 7253222.739399999, 3248...\n",
       "16       (POLYGON ((319860.8133982481 7253807.226716048...\n",
       "17       (POLYGON ((320051.0431533004 7253662.221328524...\n",
       "18       (POLYGON ((324145.4225734099 7252761.836253162...\n",
       "19       (POLYGON ((320040.2320036344 7253704.047340287...\n",
       "20       (POLYGON ((323673.1799370976 7252836.394962844...\n",
       "21       (POLYGON ((322987.2443000005 7252479.7456, 322...\n",
       "22       (POLYGON ((322998.5985000003 7252544.858200001...\n",
       "23       (POLYGON ((322398.3981999999 7252615.808600003...\n",
       "24       (POLYGON ((318182.9284847907 7253892.375946455...\n",
       "25       (POLYGON ((321638.2659000001 7253461.095500002...\n",
       "26       (POLYGON ((321673.6738345341 7252692.995449217...\n",
       "27       (POLYGON ((321051.6338692352 7253129.398765769...\n",
       "28       (POLYGON ((317323.4401420375 7253659.613995113...\n",
       "29       (POLYGON ((321151.2659527932 7253128.076314269...\n",
       "                               ...                        \n",
       "25986    (POLYGON ((316910.5524000005 7252569.5067, 316...\n",
       "25987    POLYGON ((317356.1195999995 7253264.065199999,...\n",
       "25988    (POLYGON ((314596.2872903056 7252444.007061912...\n",
       "25989    (POLYGON ((316257.1005999996 7252390.1987, 316...\n",
       "25990    (POLYGON ((314349.4436999997 7252224.2513, 314...\n",
       "25991    (POLYGON ((313760.443664517 7252176.161739732,...\n",
       "25992    (POLYGON ((312338.137907724 7254544.479042895,...\n",
       "25993    (POLYGON ((312303.025897723 7254425.894474203,...\n",
       "25994    (POLYGON ((313311.0738 7252971.069100001, 3133...\n",
       "25995    POLYGON ((313109.2078999995 7253544.519000001,...\n",
       "25996    POLYGON ((313144.0769999996 7253391.980000002,...\n",
       "25997    POLYGON ((317087.1223999999 7252812.6125, 3170...\n",
       "25998    POLYGON ((316683.5396999991 7253138.387499999,...\n",
       "25999    POLYGON ((316860.9375999996 7252696.5635, 3168...\n",
       "26000    POLYGON ((316699.0761000002 7252691.0744, 3166...\n",
       "26001    (POLYGON ((316200.5949999997 7252411.6411, 316...\n",
       "26002    POLYGON ((316401.3131000001 7252845.9091, 3163...\n",
       "26003    POLYGON ((316518.2001000001 7252706.8024, 3165...\n",
       "26004    POLYGON ((316725.9113 7252650.5142, 316716.280...\n",
       "26005    (POLYGON ((315864.9439000003 7252488.4946, 315...\n",
       "26006    POLYGON ((315792.5723000007 7252358.535200002,...\n",
       "26007    POLYGON ((315717.2896999994 7252701.083000001,...\n",
       "26008    (POLYGON ((315482.9064999998 7252630.432300001...\n",
       "26009    POLYGON ((316978.7943000001 7252602.261699999,...\n",
       "26010    (POLYGON ((314976.6081000004 7252214.529300001...\n",
       "26011    POLYGON ((316768.4868000003 7252877.128, 31675...\n",
       "26012    (POLYGON ((314973.9209 7251991.6654, 314964.29...\n",
       "26013    (POLYGON ((316034.71 7252751.706800001, 316025...\n",
       "26014    (POLYGON ((316598.1716000001 7252963.531700001...\n",
       "26015    POLYGON ((316020.9293999997 7252261.611399999,...\n",
       "Name: geometry, Length: 26016, dtype: object"
      ]
     },
     "execution_count": 9,
     "metadata": {},
     "output_type": "execute_result"
    }
   ],
   "source": [
    "test_function_pp.shape, buff_erase_df.shape\n",
    "test_function_pp.to_crs(epsg=32736).geometry"
   ]
  },
  {
   "cell_type": "code",
   "execution_count": null,
   "metadata": {},
   "outputs": [],
   "source": [
    "# change the output filename to your desire\n",
    "test_function_pp.to_crs(epsg=32736).to_file('test_landsat_summaries_1997_2017_median_maskCloudWater.shp')"
   ]
  },
  {
   "cell_type": "code",
   "execution_count": 20,
   "metadata": {},
   "outputs": [
    {
     "data": {
      "text/plain": [
       "100    (POLYGON ((317954.3460191695 -2746243.33964341...\n",
       "101    (POLYGON ((321356.8258999994 -2747425.1595, 32...\n",
       "102    (POLYGON ((316767.9601816834 -2746526.32509758...\n",
       "103    (POLYGON ((321230.9337000001 -2746526.5154, 32...\n",
       "104    (POLYGON ((325665.8746999993 -2747785.6074, 32...\n",
       "105    (POLYGON ((325777.6059000003 -2747934.8996, 32...\n",
       "106    POLYGON ((325244.4335999999 -2748905.152499999...\n",
       "107    POLYGON ((324904.9069999998 -2748775.6525, 324...\n",
       "108    (POLYGON ((325081.5504999995 -2746533.63169999...\n",
       "109    (POLYGON ((324228.4599686214 -2746029.84972034...\n",
       "110    (POLYGON ((324945.2107999996 -2746833.67549999...\n",
       "111    (POLYGON ((324206.5346480416 -2747243.20823820...\n",
       "112    (POLYGON ((323497.4941881252 -2748256.54339274...\n",
       "113    (POLYGON ((322380.1996000001 -2747222.58000000...\n",
       "114    (POLYGON ((318795.9064999663 -2746375.26887053...\n",
       "115    (POLYGON ((322046.5409865034 -2747347.90230201...\n",
       "116    (POLYGON ((318343.1015772807 -2746215.96042852...\n",
       "117    (POLYGON ((317832.8572524968 -2746236.62236639...\n",
       "118    (POLYGON ((317733.9143065856 -2746209.46880439...\n",
       "119    (POLYGON ((321405.7110000002 -2746867.49579999...\n",
       "120    (POLYGON ((320837.8415000002 -2746383.2924, 32...\n",
       "121    (POLYGON ((316453.5212992722 -2746648.26943154...\n",
       "122    (POLYGON ((316399.6997858728 -2746669.14225920...\n",
       "123    (POLYGON ((320042.005 -2746233.077800001, 3200...\n",
       "124    (POLYGON ((320714.5975999998 -2746429.99659999...\n",
       "125    (POLYGON ((319869.1224711306 -2746863.99261362...\n",
       "126    (POLYGON ((316369.4235400652 -2746680.88386254...\n",
       "127    POLYGON ((319348.446293832 -2747617.165838419,...\n",
       "128    (POLYGON ((324999.5097999999 -2745342.40759999...\n",
       "129    (POLYGON ((325344.9884000003 -2745655.0914, 32...\n",
       "                             ...                        \n",
       "170    (POLYGON ((323821.2123999996 -2747046.4253, 32...\n",
       "171    (POLYGON ((318460.2713389624 -2746352.82625403...\n",
       "172    (POLYGON ((322771.1636524977 -2747119.91334463...\n",
       "173    (POLYGON ((322565.6742999998 -2746533.1012, 32...\n",
       "174    (POLYGON ((317332.6570303217 -2746337.37900482...\n",
       "175    (POLYGON ((321648.8488999999 -2747320.1176, 32...\n",
       "176    (POLYGON ((316413.9156826969 -2746663.62911129...\n",
       "177    (POLYGON ((316444.2152742012 -2746651.87845413...\n",
       "178    (POLYGON ((320720.1218000003 -2746396.35859999...\n",
       "179    (POLYGON ((316322.9433167162 -2746702.58788070...\n",
       "180    POLYGON ((319324.0513858863 -2746896.907218028...\n",
       "181    (POLYGON ((325346.9625 -2745630.212199999, 325...\n",
       "182    (POLYGON ((326109.9258000003 -2746492.9282, 32...\n",
       "183    POLYGON ((325130.8129000003 -2748836.0299, 325...\n",
       "184    (POLYGON ((317012.0424637788 -2746431.66615752...\n",
       "185    (POLYGON ((321370.2165775409 -2746800.86857354...\n",
       "186    (POLYGON ((321347.921912775 -2747350.933367794...\n",
       "187    (POLYGON ((325223.8400999999 -2746409.81979999...\n",
       "188    (POLYGON ((326070.8724999999 -2746387.86919999...\n",
       "189    (POLYGON ((325641.8975000001 -2747817.32149999...\n",
       "190    (POLYGON ((323807.0757824572 -2746949.91930451...\n",
       "191    POLYGON ((325306.4063999995 -2749127.4561, 325...\n",
       "192    (POLYGON ((326131.8580330382 -2747518.28318807...\n",
       "193    (POLYGON ((323135.2946037209 -2746787.35477110...\n",
       "194    (POLYGON ((326105.1045000007 -2746535.37790000...\n",
       "195    POLYGON ((319345.7539071747 -2747615.58488945,...\n",
       "196    (POLYGON ((321273.2531000003 -2746656.52340000...\n",
       "197    (POLYGON ((321358.9681194575 -2746506.41162760...\n",
       "198    (POLYGON ((325503.6313299831 -2746434.64627086...\n",
       "199    (POLYGON ((319995.3570538182 -2746907.49495260...\n",
       "Name: geometry, Length: 100, dtype: object"
      ]
     },
     "execution_count": 20,
     "metadata": {},
     "output_type": "execute_result"
    }
   ],
   "source": [
    "all_vals_arr\n",
    "landsat_columns\n",
    "ndvi_df.shape, buff_erase_df.shape, buff_erase_df.join(pd.DataFrame(all_vals_arr.T, columns=landsat_columns)).shape\n",
    "junk = buff_erase_df.join(pd.DataFrame(all_vals_arr.T, columns=landsat_columns))\n",
    "junk.to_crs(epsg=32636).geometry"
   ]
  },
  {
   "cell_type": "code",
   "execution_count": 20,
   "metadata": {},
   "outputs": [],
   "source": [
    "## something happens with the to_crs call. not sure why the CRS issue exists, but it does! so let's try something else\n",
    "## like... just assigning the crs.\n",
    "from fiona.crs import from_epsg\n",
    "landsat_crs = from_epsg(32636)"
   ]
  },
  {
   "cell_type": "code",
   "execution_count": 21,
   "metadata": {},
   "outputs": [
    {
     "name": "stdout",
     "output_type": "stream",
     "text": [
      "epsg_df: 32636, epsg_raster: 32636\n",
      "epsg_df: {'init': 'epsg:32636', 'no_defs': True}, epsg_raster: 32636\n"
     ]
    },
    {
     "ename": "ValueError",
     "evalue": "Input shapes do not overlap raster.",
     "output_type": "error",
     "traceback": [
      "\u001b[1;31m---------------------------------------------------------------------------\u001b[0m",
      "\u001b[1;31mRemoteTraceback\u001b[0m                           Traceback (most recent call last)",
      "\u001b[1;31mRemoteTraceback\u001b[0m: \n\"\"\"\nTraceback (most recent call last):\n  File \"C:\\anaconda3\\envs\\eapy_gbdx\\lib\\site-packages\\rasterio\\mask.py\", line 81, in raster_geometry_mask\n    pad_x=pad_x, pad_y=pad_y)\n  File \"C:\\anaconda3\\envs\\eapy_gbdx\\lib\\site-packages\\rasterio\\features.py\", line 430, in geometry_window\n    window = window.intersection(raster_window)\n  File \"C:\\anaconda3\\envs\\eapy_gbdx\\lib\\site-packages\\rasterio\\windows.py\", line 714, in intersection\n    return intersection([self, other])\n  File \"C:\\anaconda3\\envs\\eapy_gbdx\\lib\\site-packages\\rasterio\\windows.py\", line 118, in wrapper\n    return function(*args[0])\n  File \"C:\\anaconda3\\envs\\eapy_gbdx\\lib\\site-packages\\rasterio\\windows.py\", line 216, in intersection\n    raise WindowError(\"windows do not intersect\")\nrasterio.errors.WindowError: windows do not intersect\n\nDuring handling of the above exception, another exception occurred:\n\nTraceback (most recent call last):\n  File \"C:\\anaconda3\\envs\\eapy_gbdx\\lib\\multiprocessing\\pool.py\", line 119, in worker\n    result = (True, func(*args, **kwds))\n  File \"C:\\anaconda3\\envs\\eapy_gbdx\\lib\\multiprocessing\\pool.py\", line 44, in mapstar\n    return list(map(*args))\n  File \"C:\\projects\\RD\\south_africa\\jp\\proc_helpers.py\", line 383, in summarize_ndvi_with_qa_file\n    n_arr, _ = mask(src, [geom], crop=True)\n  File \"C:\\anaconda3\\envs\\eapy_gbdx\\lib\\site-packages\\rasterio\\mask.py\", line 181, in mask\n    pad=pad)\n  File \"C:\\anaconda3\\envs\\eapy_gbdx\\lib\\site-packages\\rasterio\\mask.py\", line 87, in raster_geometry_mask\n    raise ValueError('Input shapes do not overlap raster.')\nValueError: Input shapes do not overlap raster.\n\"\"\"",
      "\nThe above exception was the direct cause of the following exception:\n",
      "\u001b[1;31mValueError\u001b[0m                                Traceback (most recent call last)",
      "\u001b[1;32m<ipython-input-21-54b5efe91124>\u001b[0m in \u001b[0;36m<module>\u001b[1;34m\u001b[0m\n\u001b[0;32m      2\u001b[0m \u001b[0mtest_crs_buff\u001b[0m\u001b[1;33m.\u001b[0m\u001b[0mcrs\u001b[0m \u001b[1;33m=\u001b[0m \u001b[0mlandsat_crs\u001b[0m\u001b[1;33m\u001b[0m\u001b[0m\n\u001b[0;32m      3\u001b[0m \u001b[0mt0\u001b[0m \u001b[1;33m=\u001b[0m \u001b[0mtime\u001b[0m\u001b[1;33m.\u001b[0m\u001b[0mtime\u001b[0m\u001b[1;33m(\u001b[0m\u001b[1;33m)\u001b[0m\u001b[1;33m\u001b[0m\u001b[0m\n\u001b[1;32m----> 4\u001b[1;33m \u001b[0mtest_crs\u001b[0m \u001b[1;33m=\u001b[0m \u001b[0mpp_summarize_ndvi_with_qa_dir\u001b[0m\u001b[1;33m(\u001b[0m\u001b[0mndvi_dir\u001b[0m\u001b[1;33m,\u001b[0m \u001b[0mqa_dir\u001b[0m\u001b[1;33m,\u001b[0m \u001b[0mtest_crs_buff\u001b[0m\u001b[1;33m,\u001b[0m \u001b[1;34m'median'\u001b[0m\u001b[1;33m)\u001b[0m\u001b[1;33m\u001b[0m\u001b[0m\n\u001b[0m\u001b[0;32m      5\u001b[0m \u001b[0mt1\u001b[0m \u001b[1;33m=\u001b[0m \u001b[0mtime\u001b[0m\u001b[1;33m.\u001b[0m\u001b[0mtime\u001b[0m\u001b[1;33m(\u001b[0m\u001b[1;33m)\u001b[0m\u001b[1;33m\u001b[0m\u001b[0m\n",
      "\u001b[1;32mC:\\projects\\RD\\south_africa\\jp\\proc_helpers.py\u001b[0m in \u001b[0;36mpp_summarize_ndvi_with_qa_dir\u001b[1;34m(ndvi_dir, qa_dir, geo_df, method)\u001b[0m\n\u001b[0;32m    569\u001b[0m \u001b[1;33m\u001b[0m\u001b[0m\n\u001b[0;32m    570\u001b[0m         \u001b[1;31m# process in parallel\u001b[0m\u001b[1;33m\u001b[0m\u001b[1;33m\u001b[0m\u001b[0m\n\u001b[1;32m--> 571\u001b[1;33m         \u001b[0mvals\u001b[0m \u001b[1;33m=\u001b[0m \u001b[0mpool\u001b[0m\u001b[1;33m.\u001b[0m\u001b[0mmap\u001b[0m\u001b[1;33m(\u001b[0m\u001b[0mpartial\u001b[0m\u001b[1;33m(\u001b[0m\u001b[0msummarize_ndvi_with_qa_file\u001b[0m\u001b[1;33m,\u001b[0m \u001b[0mndvi_fi\u001b[0m\u001b[1;33m,\u001b[0m \u001b[0mqa_fi\u001b[0m\u001b[1;33m,\u001b[0m \u001b[0mmethod\u001b[0m\u001b[1;33m=\u001b[0m\u001b[0mmethod\u001b[0m\u001b[1;33m)\u001b[0m\u001b[1;33m,\u001b[0m \u001b[0mgeo_df\u001b[0m\u001b[1;33m[\u001b[0m\u001b[1;34m'geometry'\u001b[0m\u001b[1;33m]\u001b[0m\u001b[1;33m)\u001b[0m\u001b[1;33m\u001b[0m\u001b[0m\n\u001b[0m\u001b[0;32m    572\u001b[0m \u001b[1;33m\u001b[0m\u001b[0m\n\u001b[0;32m    573\u001b[0m         \u001b[1;31m# vals should have one value for each geometry\u001b[0m\u001b[1;33m\u001b[0m\u001b[1;33m\u001b[0m\u001b[0m\n",
      "\u001b[1;32mC:\\anaconda3\\envs\\eapy_gbdx\\lib\\multiprocessing\\pool.py\u001b[0m in \u001b[0;36mmap\u001b[1;34m(self, func, iterable, chunksize)\u001b[0m\n\u001b[0;32m    264\u001b[0m         \u001b[1;32min\u001b[0m \u001b[0ma\u001b[0m \u001b[0mlist\u001b[0m \u001b[0mthat\u001b[0m \u001b[1;32mis\u001b[0m \u001b[0mreturned\u001b[0m\u001b[1;33m.\u001b[0m\u001b[1;33m\u001b[0m\u001b[0m\n\u001b[0;32m    265\u001b[0m         '''\n\u001b[1;32m--> 266\u001b[1;33m         \u001b[1;32mreturn\u001b[0m \u001b[0mself\u001b[0m\u001b[1;33m.\u001b[0m\u001b[0m_map_async\u001b[0m\u001b[1;33m(\u001b[0m\u001b[0mfunc\u001b[0m\u001b[1;33m,\u001b[0m \u001b[0miterable\u001b[0m\u001b[1;33m,\u001b[0m \u001b[0mmapstar\u001b[0m\u001b[1;33m,\u001b[0m \u001b[0mchunksize\u001b[0m\u001b[1;33m)\u001b[0m\u001b[1;33m.\u001b[0m\u001b[0mget\u001b[0m\u001b[1;33m(\u001b[0m\u001b[1;33m)\u001b[0m\u001b[1;33m\u001b[0m\u001b[0m\n\u001b[0m\u001b[0;32m    267\u001b[0m \u001b[1;33m\u001b[0m\u001b[0m\n\u001b[0;32m    268\u001b[0m     \u001b[1;32mdef\u001b[0m \u001b[0mstarmap\u001b[0m\u001b[1;33m(\u001b[0m\u001b[0mself\u001b[0m\u001b[1;33m,\u001b[0m \u001b[0mfunc\u001b[0m\u001b[1;33m,\u001b[0m \u001b[0miterable\u001b[0m\u001b[1;33m,\u001b[0m \u001b[0mchunksize\u001b[0m\u001b[1;33m=\u001b[0m\u001b[1;32mNone\u001b[0m\u001b[1;33m)\u001b[0m\u001b[1;33m:\u001b[0m\u001b[1;33m\u001b[0m\u001b[0m\n",
      "\u001b[1;32mC:\\anaconda3\\envs\\eapy_gbdx\\lib\\multiprocessing\\pool.py\u001b[0m in \u001b[0;36mget\u001b[1;34m(self, timeout)\u001b[0m\n\u001b[0;32m    642\u001b[0m             \u001b[1;32mreturn\u001b[0m \u001b[0mself\u001b[0m\u001b[1;33m.\u001b[0m\u001b[0m_value\u001b[0m\u001b[1;33m\u001b[0m\u001b[0m\n\u001b[0;32m    643\u001b[0m         \u001b[1;32melse\u001b[0m\u001b[1;33m:\u001b[0m\u001b[1;33m\u001b[0m\u001b[0m\n\u001b[1;32m--> 644\u001b[1;33m             \u001b[1;32mraise\u001b[0m \u001b[0mself\u001b[0m\u001b[1;33m.\u001b[0m\u001b[0m_value\u001b[0m\u001b[1;33m\u001b[0m\u001b[0m\n\u001b[0m\u001b[0;32m    645\u001b[0m \u001b[1;33m\u001b[0m\u001b[0m\n\u001b[0;32m    646\u001b[0m     \u001b[1;32mdef\u001b[0m \u001b[0m_set\u001b[0m\u001b[1;33m(\u001b[0m\u001b[0mself\u001b[0m\u001b[1;33m,\u001b[0m \u001b[0mi\u001b[0m\u001b[1;33m,\u001b[0m \u001b[0mobj\u001b[0m\u001b[1;33m)\u001b[0m\u001b[1;33m:\u001b[0m\u001b[1;33m\u001b[0m\u001b[0m\n",
      "\u001b[1;31mValueError\u001b[0m: Input shapes do not overlap raster."
     ]
    }
   ],
   "source": [
    "test_crs_buff = buff_erase_df.copy()\n",
    "test_crs_buff.crs = landsat_crs\n",
    "t0 = time.time()\n",
    "test_crs = pp_summarize_ndvi_with_qa_dir(ndvi_dir, qa_dir, test_crs_buff, 'median')\n",
    "t1 = time.time()"
   ]
  },
  {
   "cell_type": "markdown",
   "metadata": {},
   "source": [
    "# everything below here is testing and doesn't need to run\n",
    "## test number of points for scaling"
   ]
  },
  {
   "cell_type": "raw",
   "metadata": {},
   "source": [
    "import time\n",
    "\n",
    "times = []\n",
    "total_points = []\n",
    "num_points = (1,2,3,4,5,6,7)\n",
    "for npoints in num_points:\n",
    "    \n",
    "    buff_erase_df = create_buffer_point_polygon_overlay(df, method='difference', num_points=npoints)\n",
    "    buff_erase_df.crs = {'init' :'epsg:32736'}\n",
    "    \n",
    "    t0 = time.time()\n",
    "    test_function_pp = pp_summarize_ndvi_with_qa_dir(ndvi_dir, qa_dir, buff_erase_df, 'median')\n",
    "    t1 = time.time()\n",
    "    \n",
    "    times.append(t1-t0)\n",
    "    total_points.append(buff_erase_df.shape[0])\n",
    "    "
   ]
  },
  {
   "cell_type": "raw",
   "metadata": {},
   "source": [
    "plt.plot(total_points, times)\n",
    "plt.xlabel(\"num_points\")\n",
    "plt.ylabel(\"processing time across 6 cores (s)\")\n",
    "\n",
    "locs, labels = plt.xticks()           # Get locations and labels\n",
    "plt.xticks(total_points, total_points)  # Set locations and labels\n",
    "\n",
    "plt.grid(True)\n",
    "plt.show()"
   ]
  },
  {
   "cell_type": "raw",
   "metadata": {},
   "source": [
    "from scipy.stats import linregress\n",
    "slope, intercept, r_value, p_value, std_err = linregress(total_points, times)\n",
    "slope, intercept, r_value, p_value, std_err"
   ]
  },
  {
   "cell_type": "raw",
   "metadata": {},
   "source": [
    "bigtime = slope*33000 + intercept\n",
    "bigtime/60/60"
   ]
  },
  {
   "cell_type": "code",
   "execution_count": 25,
   "metadata": {},
   "outputs": [
    {
     "name": "stdout",
     "output_type": "stream",
     "text": [
      "{'init': 'epsg:32736'} {'init': 'epsg:32736', 'no_defs': True}\n",
      "{'init': 'epsg:32736'} {'init': 'epsg:32736', 'no_defs': True}\n"
     ]
    }
   ],
   "source": [
    "buff_erase_df = buffer_point_polygon_overlay(df, erase_shp_files=extra_erase_shp)\n",
    "test_b = buff_erase_df.iloc[100:200]\n",
    "test_g = buff_erase_df.iloc[:100]"
   ]
  },
  {
   "cell_type": "code",
   "execution_count": 21,
   "metadata": {},
   "outputs": [
    {
     "data": {
      "text/plain": [
       "({'init': 'epsg:32736', 'no_defs': True},\n",
       " {'init': 'epsg:32736', 'no_defs': True})"
      ]
     },
     "execution_count": 21,
     "metadata": {},
     "output_type": "execute_result"
    }
   ],
   "source": [
    "test_g.crs, test_b.crs"
   ]
  },
  {
   "cell_type": "code",
   "execution_count": 34,
   "metadata": {},
   "outputs": [
    {
     "data": {
      "text/plain": [
       "{'init': 'epsg:32736', 'no_defs': True}"
      ]
     },
     "execution_count": 34,
     "metadata": {},
     "output_type": "execute_result"
    }
   ],
   "source": [
    "test_b.crs"
   ]
  },
  {
   "cell_type": "code",
   "execution_count": null,
   "metadata": {},
   "outputs": [],
   "source": []
  },
  {
   "cell_type": "code",
   "execution_count": null,
   "metadata": {},
   "outputs": [],
   "source": []
  }
 ],
 "metadata": {
  "kernelspec": {
   "display_name": "Python [default]",
   "language": "python",
   "name": "python3"
  },
  "language_info": {
   "codemirror_mode": {
    "name": "ipython",
    "version": 3
   },
   "file_extension": ".py",
   "mimetype": "text/x-python",
   "name": "python",
   "nbconvert_exporter": "python",
   "pygments_lexer": "ipython3",
   "version": "3.6.6"
  }
 },
 "nbformat": 4,
 "nbformat_minor": 2
}
